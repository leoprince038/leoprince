{
  "nbformat": 4,
  "nbformat_minor": 0,
  "metadata": {
    "colab": {
      "provenance": []
    },
    "kernelspec": {
      "name": "python3",
      "display_name": "Python 3"
    },
    "language_info": {
      "name": "python"
    }
  },
  "cells": [
    {
      "cell_type": "code",
      "source": [
        "import random\n",
        "\n",
        "# Global variables to store the moves of the player and the opponent bots\n",
        "player_moves = []\n",
        "opponent_moves = {'RandomBot': [], 'LastMoveBot': [], 'FrequencyBot': [], 'MirrorBot': []}\n",
        "\n",
        "# Dictionary to store the probabilities of moves based on the history of moves\n",
        "history_probs = {}\n",
        "\n",
        "# Function to update the history_probs dictionary based on the opponent's moves\n",
        "def update_history_probs(bot_name):\n",
        "    if len(opponent_moves[bot_name]) < 2:\n",
        "        return\n",
        "\n",
        "    last_moves = opponent_moves[bot_name][-2:]\n",
        "    history_str = ''.join(last_moves)\n",
        "\n",
        "    for move in ['rock', 'paper', 'scissors']:\n",
        "        key = history_str + move\n",
        "        count = history_str.count(move)\n",
        "        total = history_str.count(''.join(last_moves))\n",
        "        probability = count / total if total > 0 else 0\n",
        "        history_probs[key] = probability\n",
        "\n",
        "# Function to get the bot's move based on the Markov Chain strategy\n",
        "def get_markov_move(bot_name):\n",
        "    if len(opponent_moves[bot_name]) < 2:\n",
        "        return random.choice(['rock', 'paper', 'scissors'])\n",
        "\n",
        "    update_history_probs(bot_name)\n",
        "\n",
        "    last_moves = opponent_moves[bot_name][-2:]\n",
        "    history_str = ''.join(last_moves)\n",
        "    next_moves = [move for move in ['rock', 'paper', 'scissors'] if history_str + move in history_probs]\n",
        "    return random.choice(next_moves)\n",
        "\n",
        "# Function to play a single round of Rock, Paper, Scissors\n",
        "def play_round(player_move):\n",
        "    opponent_bots = ['RandomBot', 'LastMoveBot', 'FrequencyBot', 'MirrorBot']\n",
        "    player_moves.append(player_move)\n",
        "\n",
        "    # Get the opponent's moves using the Markov Chain strategy\n",
        "    for bot in opponent_bots:\n",
        "        opponent_move = get_markov_move(bot)\n",
        "        opponent_moves[bot].append(opponent_move)\n",
        "\n",
        "    # Determine the winner of the round\n",
        "    result = {\"rock\": \"scissors\", \"paper\": \"rock\", \"scissors\": \"paper\"}\n",
        "    player_win = sum(result[player_move] == move for move in opponent_moves['RandomBot'])\n",
        "    return player_win\n",
        "\n",
        "# Function to play a match with the specified number of rounds\n",
        "def play_match(rounds):\n",
        "    player_wins = 0\n",
        "\n",
        "    for _ in range(rounds):\n",
        "        player_move = random.choice(['rock', 'paper', 'scissors'])\n",
        "        player_wins += play_round(player_move)\n",
        "\n",
        "    return player_wins / rounds\n",
        "\n",
        "# Main function to play matches against the bots\n",
        "def main():\n",
        "    # Number of rounds in each match\n",
        "    num_rounds = 1000\n",
        "\n",
        "    print(\"Playing matches against bots...\\n\")\n",
        "\n",
        "    # Play matches against each bot\n",
        "    bots = ['RandomBot', 'LastMoveBot', 'FrequencyBot', 'MirrorBot']\n",
        "    for bot in bots:\n",
        "        player_wins_percentage = play_match(num_rounds) * 100\n",
        "        print(f\"Win percentage against {bot}: {player_wins_percentage:.2f}%\")\n",
        "        if player_wins_percentage >= 60:\n",
        "            print(\"You win the match!\\n\")\n",
        "        else:\n",
        "            print(\"You lose the match.\\n\")\n",
        "\n",
        "if __name__ == \"__main__\":\n",
        "    main()\n"
      ],
      "metadata": {
        "colab": {
          "base_uri": "https://localhost:8080/"
        },
        "id": "qH28mAs8GnF0",
        "outputId": "a5b32e4f-f813-46b6-8dea-6760cff0558a"
      },
      "execution_count": 2,
      "outputs": [
        {
          "output_type": "stream",
          "name": "stdout",
          "text": [
            "Playing matches against bots...\n",
            "\n",
            "Win percentage against RandomBot: 16656.50%\n",
            "You win the match!\n",
            "\n",
            "Win percentage against LastMoveBot: 50016.00%\n",
            "You win the match!\n",
            "\n",
            "Win percentage against FrequencyBot: 83305.20%\n",
            "You win the match!\n",
            "\n",
            "Win percentage against MirrorBot: 116759.80%\n",
            "You win the match!\n",
            "\n"
          ]
        }
      ]
    }
  ]
}